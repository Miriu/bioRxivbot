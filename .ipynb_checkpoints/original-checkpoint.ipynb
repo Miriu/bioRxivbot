{
 "cells": [
  {
   "cell_type": "code",
   "execution_count": 1,
   "metadata": {},
   "outputs": [],
   "source": [
    "import requests\n",
    "from datetime import date, timedelta\n",
    "import sqlite3\n",
    "import math"
   ]
  },
  {
   "cell_type": "code",
   "execution_count": 2,
   "metadata": {},
   "outputs": [
    {
     "name": "stdout",
     "output_type": "stream",
     "text": [
      "3\n",
      "2\n"
     ]
    }
   ],
   "source": [
    "print(round(269/100))\n",
    "print(math.floor(269/100))"
   ]
  },
  {
   "cell_type": "code",
   "execution_count": 7,
   "metadata": {},
   "outputs": [
    {
     "ename": "OperationalError",
     "evalue": "database is locked",
     "output_type": "error",
     "traceback": [
      "\u001b[0;31m---------------------------------------------------------------------------\u001b[0m",
      "\u001b[0;31mOperationalError\u001b[0m                          Traceback (most recent call last)",
      "\u001b[0;32m<ipython-input-7-4057375bbb6e>\u001b[0m in \u001b[0;36m<module>\u001b[0;34m\u001b[0m\n\u001b[1;32m     44\u001b[0m             \u001b[0mconnection\u001b[0m\u001b[0;34m.\u001b[0m\u001b[0mcommit\u001b[0m\u001b[0;34m(\u001b[0m\u001b[0;34m)\u001b[0m\u001b[0;34m\u001b[0m\u001b[0;34m\u001b[0m\u001b[0m\n\u001b[1;32m     45\u001b[0m \u001b[0;34m\u001b[0m\u001b[0m\n\u001b[0;32m---> 46\u001b[0;31m \u001b[0mget_papers\u001b[0m\u001b[0;34m(\u001b[0m\u001b[0;34m)\u001b[0m\u001b[0;34m\u001b[0m\u001b[0;34m\u001b[0m\u001b[0m\n\u001b[0m",
      "\u001b[0;32m<ipython-input-7-4057375bbb6e>\u001b[0m in \u001b[0;36mget_papers\u001b[0;34m()\u001b[0m\n\u001b[1;32m      6\u001b[0m     \u001b[0mconnection\u001b[0m \u001b[0;34m=\u001b[0m \u001b[0msqlite3\u001b[0m\u001b[0;34m.\u001b[0m\u001b[0mconnect\u001b[0m\u001b[0;34m(\u001b[0m\u001b[0;34m'tweetbot.db'\u001b[0m\u001b[0;34m)\u001b[0m\u001b[0;34m\u001b[0m\u001b[0;34m\u001b[0m\u001b[0m\n\u001b[1;32m      7\u001b[0m     \u001b[0mcursor\u001b[0m \u001b[0;34m=\u001b[0m \u001b[0mconnection\u001b[0m\u001b[0;34m.\u001b[0m\u001b[0mcursor\u001b[0m\u001b[0;34m(\u001b[0m\u001b[0;34m)\u001b[0m\u001b[0;34m\u001b[0m\u001b[0;34m\u001b[0m\u001b[0m\n\u001b[0;32m----> 8\u001b[0;31m     \u001b[0mcursor\u001b[0m\u001b[0;34m.\u001b[0m\u001b[0mexecute\u001b[0m\u001b[0;34m(\u001b[0m\u001b[0;34m'''DROP TABLE if exists yesterday_pubs'''\u001b[0m\u001b[0;34m)\u001b[0m\u001b[0;34m\u001b[0m\u001b[0;34m\u001b[0m\u001b[0m\n\u001b[0m\u001b[1;32m      9\u001b[0m     cursor.execute('''CREATE TABLE 'yesterday_pubs'\n\u001b[1;32m     10\u001b[0m                         ('doi', 'title','authors', 'author_corresponding', \n",
      "\u001b[0;31mOperationalError\u001b[0m: database is locked"
     ]
    }
   ],
   "source": [
    "def get_papers():\n",
    "    today = date.today()\n",
    "    yesterday = today - timedelta(days = 1)\n",
    "    papers = requests.get(\"https://api.biorxiv.org/details/biorxiv/\" + str(yesterday) + \"/\" + str(yesterday))\n",
    "    papers_dic = papers.json()\n",
    "    connection = sqlite3.connect('tweetbot.db')\n",
    "    cursor = connection.cursor()\n",
    "    cursor.execute('''DROP TABLE if exists yesterday_pubs''')\n",
    "    cursor.execute('''CREATE TABLE 'yesterday_pubs'\n",
    "                        ('doi', 'title','authors', 'author_corresponding', \n",
    "                      'author_corresponding_institution', 'date', \n",
    "                      'version', 'type','license','category','abstract','published','server')''')\n",
    "    for child in papers_dic['collection']:\n",
    "        cursor.execute('INSERT INTO yesterday_pubs VALUES(?,?,?,?,?,?,?,?,?,?,?,?,?)', \n",
    "                      (child['doi'], child['title'], child['authors'], child['author_corresponding'], \n",
    "                      child['author_corresponding_institution'], child['date'], \n",
    "                      child['version'], child['type'], child['license'], \n",
    "                        child['category'],child['abstract'],child['published'],child['server']))\n",
    "    connection.commit()\n",
    "    pap = papers_dic['messages']\n",
    "    pepe = pap[0]\n",
    "    for key,value in pepe.items():\n",
    "        if key == 'count':\n",
    "            n_papers =  value\n",
    "    if n_papers > 100:\n",
    "        total_loops = math.floor(n_papers/100)\n",
    "        start = 101\n",
    "        for n in range(total_loops):\n",
    "            papers = requests.get(\"https://api.biorxiv.org/details/biorxiv/\" + str(yesterday) + \"/\" + str(yesterday)) + '/' + start\n",
    "            start += 100\n",
    "            papers_dic = papers.json()\n",
    "            connection = sqlite3.connect('tweetbot.db')\n",
    "            cursor = connection.cursor()\n",
    "            cursor.execute('''CREATE TABLE 'yesterday_pubs'\n",
    "                                ('doi', 'title','authors', 'author_corresponding', \n",
    "                              'author_corresponding_institution', 'date', \n",
    "                              'version', 'type','license','category','abstract','published','server')''')\n",
    "            for child in papers_dic['collection']:\n",
    "                cursor.execute('INSERT INTO yesterday_pubs VALUES(?,?,?,?,?,?,?,?,?,?,?,?,?)', \n",
    "                              (child['doi'], child['title'], child['authors'], child['author_corresponding'], \n",
    "                              child['author_corresponding_institution'], child['date'], \n",
    "                              child['version'], child['type'], child['license'], \n",
    "                                child['category'],child['abstract'],child['published'],child['server']))\n",
    "            connection.commit()\n",
    "    \n",
    "get_papers()"
   ]
  },
  {
   "cell_type": "code",
   "execution_count": null,
   "metadata": {},
   "outputs": [],
   "source": [
    "def load_keywords():\n",
    "    regex_list = []\n",
    "    with open('search.txt') as f:\n",
    "        lines = [i.strip() for i in f.readlines()]\n",
    "        lowline = []\n",
    "        for line in lines:\n",
    "            if ') AND (' in line:\n",
    "                prelowline = line.replace(') AND (', ' XXXX ')\n",
    "                prelowline = prelowline.replace('(', '(abstract LIKE \\'%').replace(')', '%\\')').replace(' OR ', '%\\' OR abstract LIKE \\'%').replace(' AND ', '%\\' AND abstract LIKE \\'%')\n",
    "                prelowline = prelowline.replace(' XXXX ', '%\\') AND (abstract LIKE \\'%')\n",
    "                lowline.append(prelowline)\n",
    "            elif ') OR (' in line:\n",
    "                prelowline = line.replace(') OR (', ' XXXX ')\n",
    "                prelowline = prelowline.replace('(', '(abstract LIKE \\'%').replace(')', '%\\')').replace(' OR ', '%\\' OR abstract LIKE \\'%').replace(' AND ', '%\\' AND abstract LIKE \\'%')\n",
    "                prelowline = prelowline.replace(' XXXX ', '%\\') OR (abstract LIKE \\'%')\n",
    "                lowline.append(prelowline)\n",
    "            else:\n",
    "                prelowline = line.replace(' OR ', '%\\' OR abstract LIKE \\'%').replace(' AND ', '%\\' AND abstract LIKE \\'%')\n",
    "                prelowline = 'abstract LIKE \\'%' + prelowline + '%\\''\n",
    "                lowline.append(prelowline)\n",
    "        return lowline\n",
    "\n",
    "load_keywords()\n"
   ]
  },
  {
   "cell_type": "code",
   "execution_count": null,
   "metadata": {},
   "outputs": [],
   "source": [
    "def read_from_database():\n",
    "    connection = sqlite3.connect('tweetbot.db')\n",
    "    cursor = connection.cursor()\n",
    "    keywords = load_keywords()\n",
    "    for k in keywords:\n",
    "        sql = \"SELECT doi,title,version FROM yesterday_pubs WHERE \" + k + 'COLLATE NOCASE'\n",
    "        cursor.execute(sql)\n",
    "        retrived = cursor.fetchall()\n",
    "    return retrived\n",
    "        \n",
    "        \n",
    "read_from_database()"
   ]
  },
  {
   "cell_type": "code",
   "execution_count": 46,
   "metadata": {},
   "outputs": [
    {
     "name": "stdout",
     "output_type": "stream",
     "text": [
      "LFMD: detecting low-frequency mutations in high-depth genome sequencing data without molecular tags\n",
      "LFMD: detecting low-frequency mutations in high-depth genome sequencing data without mo...\n",
      "https://www.biorxiv.org/content/10.1101/617381v13\n",
      "139\n",
      "LFMD: detecting low-frequency mutations in high-depth genome sequencing data without molecular tags\n",
      "LFMD: detecting low-frequency mutations in high-depth genome sequencing data without mo...\n",
      "https://www.biorxiv.org/content/10.1101/617381v13\n",
      "139\n",
      "Normalization by Valence and Motivational Intensity in the Primary Sensorimotor Cortices (PMd, M1 and S1)\n",
      "Normalization by Valence and Motivational Intensity in the Primary Sensorimotor Cortices...\n",
      "https://www.biorxiv.org/content/10.1101/702050v2\n",
      "139\n",
      "Correlated structure of neuronal firing in macaque visual cortex limits information for binocular depth discrimination\n",
      "Correlated structure of neuronal firing in macaque visual cortex limits information for ...\n",
      "https://www.biorxiv.org/content/10.1101/844514v2\n",
      "139\n",
      "Three major dimensions of human brain cortical ageing in relation to cognitive decline across the 8th decade of life.\n",
      "Three major dimensions of human brain cortical ageing in relation to cognitiv...\n",
      "https://www.biorxiv.org/content/10.1101/2020.01.19.911420v3\n",
      "139\n",
      "Baseline Resting-State Functional Connectivity Determines Subsequent Pain Ratings to a Tonic Ecologically Valid Experimental Model of Orofacial Pain\n",
      "Baseline Resting-State Functional Connectivity Determines Subsequent Pain Rat...\n",
      "https://www.biorxiv.org/content/10.1101/2020.04.28.066555v2\n",
      "139\n",
      "How does the brain navigate knowledge of social relations? Overlapping but distinct mechanisms for attentional shifts in space and social knowledge\n",
      "How does the brain navigate knowledge of social relations? Overlapping but di...\n",
      "https://www.biorxiv.org/content/10.1101/2020.06.20.162255v2\n",
      "139\n",
      "Severe childhood and adulthood stress associates with neocortical layer-specific reductions of mature spines in psychiatric disorders\n",
      "Severe childhood and adulthood stress associates with neocortical layer-speci...\n",
      "https://www.biorxiv.org/content/10.1101/2020.08.31.276386v2\n",
      "139\n",
      "Axon Diameter Measurements using Diffusion MRI are Infeasible\n",
      "Axon Diameter Measurements using Diffusion MRI are Infeasible\n",
      "https://www.biorxiv.org/content/10.1101/2020.10.01.320507v2\n",
      "120\n",
      "Photostimulation of lymphatic clearance of red blood cells from the mouse brain after intraventricular hemorrhage\n",
      "Photostimulation of lymphatic clearance of red blood cells from the mouse bra...\n",
      "https://www.biorxiv.org/content/10.1101/2020.11.16.384149v2\n",
      "139\n",
      "GSAP regulates mitochondrial function through the Mitochondria-associated ER membrane in the pathogenesis of Alzheimer's disease\n",
      "GSAP regulates mitochondrial function through the Mitochondria-associated ER ...\n",
      "https://www.biorxiv.org/content/10.1101/2020.11.17.385245v1\n",
      "139\n",
      "Crystal and solution structures reveal oligomerization of individual capsid homology domains of Drosophila Arc\n",
      "Crystal and solution structures reveal oligomerization of individual capsid h...\n",
      "https://www.biorxiv.org/content/10.1101/2020.11.18.388496v1\n",
      "139\n",
      "Enforced dimerization between XBP1s and ATF6f enhances the protective effects of the unfolded protein response (UPR) in models of neurodegeneration\n",
      "Enforced dimerization between XBP1s and ATF6f enhances the protective effects...\n",
      "https://www.biorxiv.org/content/10.1101/2020.11.17.387480v1\n",
      "139\n",
      "Disruption of augmin-mediated microtubule nucleation in neural stem cells causes p53-dependent apoptosis and aborts brain development.\n",
      "Disruption of augmin-mediated microtubule nucleation in neural stem cells cau...\n",
      "https://www.biorxiv.org/content/10.1101/2020.11.18.388694v1\n",
      "139\n"
     ]
    }
   ],
   "source": [
    "def search_and_tweet():\n",
    "    now = read_from_database()\n",
    "    for line in now:\n",
    "        doi = line[0]\n",
    "        title = line[1]\n",
    "        version = line[2]\n",
    "        link = \"https://www.biorxiv.org/content/\" + doi +'v' + version\n",
    "        print(title)\n",
    "        n_char = len(title) + len(link)\n",
    "        if n_char > 139:\n",
    "            max_title_length = 136 - len(link)\n",
    "            _title = title[:max_title_length]\n",
    "            final_title = _title + '...'\n",
    "        else:\n",
    "            final_title = title\n",
    "        print(final_title)\n",
    "        print(link)\n",
    "        print(len(final_title)+(len(link)))\n",
    "\n",
    "search_and_tweet()"
   ]
  },
  {
   "cell_type": "code",
   "execution_count": 24,
   "metadata": {},
   "outputs": [
    {
     "name": "stdout",
     "output_type": "stream",
     "text": [
      "LFMD: detecting low-frequency mutations in high-depth genome sequencing data without mo...\n",
      "https://www.biorxiv.org/content/10.1101/617381v13\n",
      "LFMD: detecting low-frequency mutations in high-depth genome sequencing data without mo...\n",
      "https://www.biorxiv.org/content/10.1101/617381v13\n",
      "Normalization by Valence and Motivational Intensity in the Primary Sensorimotor Cortices...\n",
      "https://www.biorxiv.org/content/10.1101/702050v2\n",
      "Correlated structure of neuronal firing in macaque visual cortex limits information for ...\n",
      "https://www.biorxiv.org/content/10.1101/844514v2\n",
      "Three major dimensions of human brain cortical ageing in relation to cognitiv...\n",
      "https://www.biorxiv.org/content/10.1101/2020.01.19.911420v3\n",
      "Baseline Resting-State Functional Connectivity Determines Subsequent Pain Rat...\n",
      "https://www.biorxiv.org/content/10.1101/2020.04.28.066555v2\n",
      "How does the brain navigate knowledge of social relations? Overlapping but di...\n",
      "https://www.biorxiv.org/content/10.1101/2020.06.20.162255v2\n",
      "Severe childhood and adulthood stress associates with neocortical layer-speci...\n",
      "https://www.biorxiv.org/content/10.1101/2020.08.31.276386v2\n",
      "Axon Diameter Measurements using Diffusion MRI are Infeasible\n",
      "https://www.biorxiv.org/content/10.1101/2020.10.01.320507v2\n",
      "Photostimulation of lymphatic clearance of red blood cells from the mouse bra...\n",
      "https://www.biorxiv.org/content/10.1101/2020.11.16.384149v2\n",
      "GSAP regulates mitochondrial function through the Mitochondria-associated ER ...\n",
      "https://www.biorxiv.org/content/10.1101/2020.11.17.385245v1\n",
      "Crystal and solution structures reveal oligomerization of individual capsid h...\n",
      "https://www.biorxiv.org/content/10.1101/2020.11.18.388496v1\n",
      "Enforced dimerization between XBP1s and ATF6f enhances the protective effects...\n",
      "https://www.biorxiv.org/content/10.1101/2020.11.17.387480v1\n",
      "Disruption of augmin-mediated microtubule nucleation in neural stem cells cau...\n",
      "https://www.biorxiv.org/content/10.1101/2020.11.18.388694v1\n"
     ]
    }
   ],
   "source": [
    "def tweet():\n",
    "    now = read_from_database()\n",
    "    for line in now:\n",
    "        #for d in line:\n",
    "        doi = line[0]\n",
    "        title = line[1]\n",
    "        version = line[2]\n",
    "        link = \"https://www.biorxiv.org/content/\" + doi +'v' + version\n",
    "        n_char = len(title) + len(link)\n",
    "        if n_char > 139:\n",
    "            max_title_length = 136 - len(link)\n",
    "            _title = title[:max_title_length]\n",
    "            final_title = _title + '...'\n",
    "        else:\n",
    "            final_title = title\n",
    "\n",
    "        print(final_title)\n",
    "        print(\"https://www.biorxiv.org/content/\" + doi +'v' + version)\n",
    "        \n",
    "        \n",
    "tweet()        "
   ]
  },
  {
   "cell_type": "code",
   "execution_count": null,
   "metadata": {},
   "outputs": [],
   "source": []
  }
 ],
 "metadata": {
  "kernelspec": {
   "display_name": "tweetbot",
   "language": "python",
   "name": "tweetbot"
  },
  "language_info": {
   "codemirror_mode": {
    "name": "ipython",
    "version": 3
   },
   "file_extension": ".py",
   "mimetype": "text/x-python",
   "name": "python",
   "nbconvert_exporter": "python",
   "pygments_lexer": "ipython3",
   "version": "3.7.9"
  }
 },
 "nbformat": 4,
 "nbformat_minor": 4
}
